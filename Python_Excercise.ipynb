{
 "cells": [
  {
   "cell_type": "code",
   "execution_count": 50,
   "metadata": {},
   "outputs": [],
   "source": [
    "#https://github.com/cltl/python-for-text-analysis/blob/master/Chapters/Chapter%2003%20-%20Strings.ipynb"
   ]
  },
  {
   "cell_type": "markdown",
   "metadata": {},
   "source": [
    "# Question 1.\n",
    "#Use Python as a calculator to calculate the number of seconds in seven years (in one line of code).\n",
    "#Assign the output to a variable with a clear variable name. Print the result."
   ]
  },
  {
   "cell_type": "code",
   "execution_count": 6,
   "metadata": {},
   "outputs": [
    {
     "name": "stdout",
     "output_type": "stream",
     "text": [
      "Enter the Number of Years, We will caluate the seconds 12\n",
      " Your Entered Years \t:12 \tAnd Total Seconds are :\t378432000 seconds\n"
     ]
    }
   ],
   "source": [
    "import time, datetime\n",
    "second_in_one_min = 60\n",
    "minutes_in_one_hour = 60\n",
    "hours_in_one_day = 24\n",
    "total_second_in_day = second_in_one_min*minutes_in_one_hour*hours_in_one_day\n",
    "\n",
    "user_input = input(\"Enter the Number of Years, We will caluate the seconds \")\n",
    "total_second = (total_second_in_day)*(365*int(user_input))\n",
    "print (\" Your Entered Years \\t:{} \\tAnd Total Seconds are :\\t{} seconds\".format(user_input, total_second))\n"
   ]
  },
  {
   "cell_type": "markdown",
   "metadata": {},
   "source": [
    "# Question 2\n",
    "#Run the following code block and see what happens. \n",
    "#Can you fix the invalid variable names? You should get no error in the end"
   ]
  },
  {
   "cell_type": "code",
   "execution_count": 11,
   "metadata": {},
   "outputs": [],
   "source": [
    "eggs = 3\n",
    "_eggs = 6\n",
    "#5eggs = 5 # Variable not start with number\n",
    "#eggs$ = 1 # Special character not use in variable define\n",
    "eggs123 = 9\n",
    "ten_eggs = 10\n",
    "TwelveEggs = 8\n",
    "#twelve.eggs = 12 # Namerror due to dot"
   ]
  },
  {
   "cell_type": "markdown",
   "metadata": {},
   "source": [
    "# Question 3\n",
    "#Can you write some code that swaps the values of these two variables? Hint: create an extra variable"
   ]
  },
  {
   "cell_type": "code",
   "execution_count": 18,
   "metadata": {},
   "outputs": [
    {
     "name": "stdout",
     "output_type": "stream",
     "text": [
      "~*~~*~~*~~*~~*~~*~~*~~*~~*~~*~\n",
      "Number First before Swap : 3 And Second Number as well : 5\n",
      "~*~~*~~*~~*~~*~~*~~*~~*~~*~~*~\n",
      "Number First After Swap : 5 And Second Number as well : 3\n"
     ]
    }
   ],
   "source": [
    "First_number = 3\n",
    "Second_number = 5 \n",
    "print (\"~*~\"*10)\n",
    "print (\"Number First before Swap : {} And Second Number as well : {}\".format(First_number,Second_number))\n",
    "Swap_value_f = First_number\n",
    "First_number = Second_number\n",
    "Second_number = Swap_value_f\n",
    "print (\"~*~\"*10)\n",
    "print (\"Number First After Swap : {} And Second Number as well : {}\".format(First_number,Second_number))"
   ]
  },
  {
   "cell_type": "markdown",
   "metadata": {},
   "source": [
    "Question 4\n",
    "#Can you write some code that swaps the values of these two variables? Hint: without an extra variable"
   ]
  },
  {
   "cell_type": "code",
   "execution_count": 19,
   "metadata": {},
   "outputs": [
    {
     "name": "stdout",
     "output_type": "stream",
     "text": [
      "~*~~*~~*~~*~~*~~*~~*~~*~~*~~*~\n",
      "Number First After Swap : 30 And Second Number as well : 50\n",
      "~*~~*~~*~~*~~*~~*~~*~~*~~*~~*~\n",
      "Number First After Swap : 50 And Second Number as well : 30\n"
     ]
    }
   ],
   "source": [
    "First_number = 30\n",
    "Second_number = 50\n",
    "print (\"~*~\"*10)\n",
    "print (\"Number First After Swap : {} And Second Number as well : {}\".format(First_number,Second_number))\n",
    "First_number = First_number * Second_number\n",
    "Second_number = First_number//Second_number\n",
    "First_number = First_number // Second_number\n",
    "print (\"~*~\"*10)\n",
    "print (\"Number First After Swap : {} And Second Number as well : {}\".format(First_number,Second_number))"
   ]
  },
  {
   "cell_type": "markdown",
   "metadata": {},
   "source": [
    "Question 5\n",
    "#Write a program that asks two people for their names using input(). \n",
    "#Store the names in variables called name1 and name2. Say hello to both of them\n"
   ]
  },
  {
   "cell_type": "code",
   "execution_count": 25,
   "metadata": {},
   "outputs": [
    {
     "name": "stdout",
     "output_type": "stream",
     "text": [
      "Enter the Name :\tJD\n",
      "Hello, JD\n",
      "Enter the Second Name :\tJD\n",
      "Hello, JD\n",
      "\n",
      " JD JD \t Both Hello each other \n"
     ]
    }
   ],
   "source": [
    "name_1 =  input(\"Enter the Name :\\t\")\n",
    "print(\"Hello,\", name_1)\n",
    "name_2 = input(\"Enter the Second Name :\\t\")\n",
    "print(\"Hello,\", name_2)\n",
    "print (\"\\n\",name_1,name_2,\"\\t Both Hello each other \")\n",
    "\n"
   ]
  },
  {
   "cell_type": "code",
   "execution_count": 27,
   "metadata": {},
   "outputs": [
    {
     "ename": "TypeError",
     "evalue": "unsupported operand type(s) for /: 'str' and 'str'",
     "output_type": "error",
     "traceback": [
      "\u001b[1;31m---------------------------------------------------------------------------\u001b[0m",
      "\u001b[1;31mTypeError\u001b[0m                                 Traceback (most recent call last)",
      "\u001b[1;32m<ipython-input-27-7b4524deb4de>\u001b[0m in \u001b[0;36m<module>\u001b[1;34m()\u001b[0m\n\u001b[0;32m      1\u001b[0m \u001b[1;31m# Remove the Error do any opertaion\u001b[0m\u001b[1;33m\u001b[0m\u001b[1;33m\u001b[0m\u001b[0m\n\u001b[1;32m----> 2\u001b[1;33m \u001b[0mprint\u001b[0m\u001b[1;33m(\u001b[0m\u001b[1;34m\"Hello\"\u001b[0m \u001b[1;33m/\u001b[0m \u001b[1;34m\"World\"\u001b[0m\u001b[1;33m)\u001b[0m\u001b[1;33m\u001b[0m\u001b[0m\n\u001b[0m",
      "\u001b[1;31mTypeError\u001b[0m: unsupported operand type(s) for /: 'str' and 'str'"
     ]
    }
   ],
   "source": [
    "# Remove the Error do any opertaion\n",
    "print(\"Hello\" / \"World\")"
   ]
  },
  {
   "cell_type": "markdown",
   "metadata": {},
   "source": [
    "Exercise 6:\n",
    "#Does the following give you the result that you expected? \n",
    "#What is the type of result? What do you need to change if you simply want to do a calculation?"
   ]
  },
  {
   "cell_type": "code",
   "execution_count": 30,
   "metadata": {},
   "outputs": [
    {
     "name": "stdout",
     "output_type": "stream",
     "text": [
      "String Return :\t 13\n",
      "For Number Calculation :\t 4\n"
     ]
    }
   ],
   "source": [
    "result = \"1\" + \"3\"\n",
    "print (\"String Return :\\t\",result)\n",
    "print (\"For Number Calculation :\\t\",int(result[0])+int(result[1]))"
   ]
  },
  {
   "cell_type": "markdown",
   "metadata": {},
   "source": [
    "Exercise 7:\n",
    "#What's wrong in the following code? Fix it by changing something in the third line."
   ]
  },
  {
   "cell_type": "code",
   "execution_count": 32,
   "metadata": {},
   "outputs": [
    {
     "ename": "TypeError",
     "evalue": "unsupported operand type(s) for /: 'int' and 'str'",
     "output_type": "error",
     "traceback": [
      "\u001b[1;31m---------------------------------------------------------------------------\u001b[0m",
      "\u001b[1;31mTypeError\u001b[0m                                 Traceback (most recent call last)",
      "\u001b[1;32m<ipython-input-32-36bbee0f7e47>\u001b[0m in \u001b[0;36m<module>\u001b[1;34m()\u001b[0m\n\u001b[0;32m      1\u001b[0m \u001b[0mx\u001b[0m \u001b[1;33m=\u001b[0m \u001b[1;36m10\u001b[0m\u001b[1;33m\u001b[0m\u001b[0m\n\u001b[0;32m      2\u001b[0m \u001b[0my\u001b[0m \u001b[1;33m=\u001b[0m \u001b[1;34m\"5\"\u001b[0m\u001b[1;33m\u001b[0m\u001b[0m\n\u001b[1;32m----> 3\u001b[1;33m \u001b[0mz\u001b[0m \u001b[1;33m=\u001b[0m \u001b[0mx\u001b[0m \u001b[1;33m/\u001b[0m \u001b[0my\u001b[0m\u001b[1;33m\u001b[0m\u001b[0m\n\u001b[0m\u001b[0;32m      4\u001b[0m \u001b[0mprint\u001b[0m\u001b[1;33m(\u001b[0m\u001b[0mz\u001b[0m\u001b[1;33m)\u001b[0m\u001b[1;33m\u001b[0m\u001b[0m\n",
      "\u001b[1;31mTypeError\u001b[0m: unsupported operand type(s) for /: 'int' and 'str'"
     ]
    }
   ],
   "source": [
    "x = 10 \n",
    "y = \"5\"\n",
    "z = x / y \n",
    "print(z)"
   ]
  },
  {
   "cell_type": "code",
   "execution_count": 33,
   "metadata": {},
   "outputs": [
    {
     "name": "stdout",
     "output_type": "stream",
     "text": [
      "2.0\n"
     ]
    }
   ],
   "source": [
    "x = 10 \n",
    "y = \"5\"\n",
    "z = x / int(y)\n",
    "print(z)"
   ]
  },
  {
   "cell_type": "markdown",
   "metadata": {},
   "source": [
    "Exercise 8:\n",
    "#Use input() to ask a user for any number \n",
    "#Divide this number by nr1 and store the result as a variable. Print the value and the type of this variable"
   ]
  },
  {
   "cell_type": "code",
   "execution_count": 35,
   "metadata": {},
   "outputs": [
    {
     "name": "stdout",
     "output_type": "stream",
     "text": [
      "User Number :\t5\n",
      "nr1 Value is 2 , Result is 2.5 and Type of Result is <class 'float'>\n"
     ]
    }
   ],
   "source": [
    "nr1 = 2\n",
    "number_value = int(input(\"User Number :\\t\"))/nr1\n",
    "print (\"nr1 Value is {} , Result is {} and Type of Result is {}\".format(nr1,number_value,type(number_value)))"
   ]
  },
  {
   "cell_type": "code",
   "execution_count": 37,
   "metadata": {},
   "outputs": [
    {
     "name": "stdout",
     "output_type": "stream",
     "text": [
      "This is a multiline text, so it is enclosed by triple quotes.\n",
      "Pretty cool stuff!\n",
      "I always wanted to type more than one line, so today is my lucky day!\n",
      "\n",
      "This is a multiline text, so it is enclosed by triple quotes.\n",
      "Pretty cool stuff!\n",
      "I always wanted to type more than one line, so today is my lucky day!\n"
     ]
    }
   ],
   "source": [
    "multiline_text_1 = \"\"\"This is a multiline text, so it is enclosed by triple quotes.\n",
    "Pretty cool stuff!\n",
    "I always wanted to type more than one line, so today is my lucky day!\"\"\"\n",
    "multiline_text_2 = \"This is a multiline text, so it is enclosed by triple quotes.\\nPretty cool stuff!\\nI always wanted to type more than one line, so today is my lucky day!\"\n",
    "print(multiline_text_1)\n",
    "print() # this just prints an empty line\n",
    "print(multiline_text_2)"
   ]
  },
  {
   "cell_type": "code",
   "execution_count": 38,
   "metadata": {},
   "outputs": [
    {
     "name": "stdout",
     "output_type": "stream",
     "text": [
      "True\n"
     ]
    }
   ],
   "source": [
    "print(multiline_text_1 == multiline_text_2)"
   ]
  },
  {
   "cell_type": "code",
   "execution_count": 39,
   "metadata": {},
   "outputs": [
    {
     "name": "stdout",
     "output_type": "stream",
     "text": [
      "'This is a multiline text, so it is enclosed by triple quotes.\\nPretty cool stuff!\\nI always wanted to type more than one line, so today is my lucky day!'\n",
      "'This is a multiline text, so it is enclosed by triple quotes.\\nPretty cool stuff!\\nI always wanted to type more than one line, so today is my lucky day!'\n"
     ]
    }
   ],
   "source": [
    "# Show the internal representation of multiline_text_1.\n",
    "print(repr(multiline_text_1))\n",
    "print(repr(multiline_text_2))"
   ]
  },
  {
   "cell_type": "code",
   "execution_count": 40,
   "metadata": {},
   "outputs": [
    {
     "name": "stdout",
     "output_type": "stream",
     "text": [
      "yellow\tgreen\tblue\tred\n",
      "'yellow\\tgreen\\tblue\\tred'\n"
     ]
    }
   ],
   "source": [
    "colors = \"yellow\\tgreen\\tblue\\tred\"\n",
    "print(colors)\n",
    "print(repr(colors))"
   ]
  },
  {
   "cell_type": "markdown",
   "metadata": {},
   "source": [
    "# NOTE : Comparing strings !!!!!!!!"
   ]
  },
  {
   "cell_type": "markdown",
   "metadata": {},
   "source": [
    "\n",
    "In Python it is possible to use comparison operators (as used in conditional statements) on strings. These operators are: ==, !=, <, <=, >, and >=\n",
    "String comparison is always case-sensitive. Some of the comparison operations (greater/smaller than) are useful for putting words in lexicographical order. This is similar to the alphabetical order you would use with a dictionary, except that all the uppercase letters come before all the lowercase letters (so first A, B, C, etc. and then a, b, c, etc.)"
   ]
  },
  {
   "cell_type": "code",
   "execution_count": 41,
   "metadata": {},
   "outputs": [
    {
     "name": "stdout",
     "output_type": "stream",
     "text": [
      "True\n",
      "True\n",
      "False\n",
      "True\n",
      "True\n",
      "True\n",
      "\n",
      "False\n",
      "True\n",
      "False\n",
      "True\n",
      "False\n"
     ]
    }
   ],
   "source": [
    "print('a' == 'a')\n",
    "print('a' != 'b')\n",
    "print('a' == 'A')  # string comparison is case-sensitive\n",
    "print('a' < 'b')   # alphabetical order\n",
    "print('A' < 'a')   # uppercase comes before lowercase\n",
    "print('B' < 'a')   # uppercase comes before lowercase\n",
    "print()\n",
    "print('orange' == 'Orange')\n",
    "print('orange' > 'Orange')\n",
    "print('orange' < 'Orange')\n",
    "print('orange' > 'banana')\n",
    "print('Orange' > 'banana')"
   ]
  },
  {
   "cell_type": "markdown",
   "metadata": {},
   "source": [
    "Another way of comparing strings is to check whether a string is part of another string,\n",
    "which can be done using the in operator. It returns True if the string contains the relevant substring, and False if it doesn't. These two values (True and False) are called boolean values, or booleans for short. \n",
    "We'll talk about them in more detail later. Here are some examples to try:"
   ]
  },
  {
   "cell_type": "code",
   "execution_count": 42,
   "metadata": {},
   "outputs": [
    {
     "data": {
      "text/plain": [
       "True"
      ]
     },
     "execution_count": 42,
     "metadata": {},
     "output_type": "execute_result"
    }
   ],
   "source": [
    "\"fun\" in \"function\""
   ]
  },
  {
   "cell_type": "code",
   "execution_count": 43,
   "metadata": {},
   "outputs": [
    {
     "data": {
      "text/plain": [
       "False"
      ]
     },
     "execution_count": 43,
     "metadata": {},
     "output_type": "execute_result"
    }
   ],
   "source": [
    "\"I\" in \"Team\""
   ]
  },
  {
   "cell_type": "code",
   "execution_count": 44,
   "metadata": {},
   "outputs": [
    {
     "data": {
      "text/plain": [
       "False"
      ]
     },
     "execution_count": 44,
     "metadata": {},
     "output_type": "execute_result"
    }
   ],
   "source": [
    "\"App\" in \"apple\" # Capitals are not the same as lowercase characters!"
   ]
  },
  {
   "cell_type": "code",
   "execution_count": 48,
   "metadata": {},
   "outputs": [
    {
     "name": "stdout",
     "output_type": "stream",
     "text": [
      " Humpty Dumpty sat on the wall \n",
      "~~*~~~~*~~\n",
      "Humpty Dumpty sat on the wall\n",
      "HUMPTY DUMPTY SAT ON THE WALL\n",
      "~~*~~~~*~~~~*~~~~*~~\n",
      "humpty dumpty sat on the wall\n",
      "~~*~~~~*~~~~*~~~~*~~~~*~~~~*~~\n",
      "2\n",
      "~~*~~~~*~~~~*~~~~*~~~~*~~~~*~~~~*~~~~*~~\n",
      "0\n",
      "~~*~~~~*~~~~*~~~~*~~~~*~~~~*~~~~*~~~~*~~~~*~~~~*~~\n",
      "14\n",
      "~~*~~~~*~~~~*~~~~*~~~~*~~~~*~~~~*~~~~*~~~~*~~~~*~~~~*~~~~*~~\n",
      "16\n",
      "~~*~~~~*~~~~*~~~~*~~~~*~~~~*~~~~*~~~~*~~~~*~~~~*~~~~*~~~~*~~~~*~~~~*~~\n",
      "-1\n",
      "~~*~~~~*~~~~*~~~~*~~~~*~~~~*~~~~*~~~~*~~~~*~~~~*~~~~*~~~~*~~~~*~~~~*~~\n",
      "Humpty Dumpty fell off the wall\n",
      "~~*~~~~*~~~~*~~~~*~~~~*~~~~*~~~~*~~~~*~~~~*~~~~*~~~~*~~~~*~~~~*~~~~*~~~~*~~~~*~~\n",
      "Humpty\n",
      "~~*~~~~*~~~~*~~~~*~~~~*~~~~*~~~~*~~~~*~~~~*~~~~*~~~~*~~~~*~~~~*~~~~*~~~~*~~~~*~~~~*~~~~*~~\n",
      "Dumpty\n",
      "~~*~~~~*~~~~*~~~~*~~~~*~~~~*~~~~*~~~~*~~~~*~~~~*~~~~*~~~~*~~~~*~~~~*~~~~*~~~~*~~~~*~~~~*~~\n",
      "Sat\n",
      "~~*~~~~*~~~~*~~~~*~~~~*~~~~*~~~~*~~~~*~~~~*~~~~*~~~~*~~~~*~~~~*~~~~*~~~~*~~~~*~~~~*~~~~*~~\n",
      "On\n",
      "~~*~~~~*~~~~*~~~~*~~~~*~~~~*~~~~*~~~~*~~~~*~~~~*~~~~*~~~~*~~~~*~~~~*~~~~*~~~~*~~~~*~~~~*~~\n",
      "The\n",
      "~~*~~~~*~~~~*~~~~*~~~~*~~~~*~~~~*~~~~*~~~~*~~~~*~~~~*~~~~*~~~~*~~~~*~~~~*~~~~*~~~~*~~~~*~~\n",
      "Wall\n",
      "~~*~~~~*~~~~*~~~~*~~~~*~~~~*~~~~*~~~~*~~~~*~~~~*~~~~*~~~~*~~~~*~~~~*~~~~*~~~~*~~~~*~~~~*~~\n",
      "Humpty-Dumpty-sat-on-the-wall\n"
     ]
    }
   ],
   "source": [
    "s = ' Humpty Dumpty sat on the wall '\n",
    "print(s)\n",
    "s = s.strip() \n",
    "print (\"~~*~~\"*2)\n",
    "print(s)\n",
    "\n",
    "print(s.upper())\n",
    "print (\"~~*~~\"*4)\n",
    "print(s.lower())\n",
    "print (\"~~*~~\"*6)\n",
    "print(s.count(\"u\"))\n",
    "print (\"~~*~~\"*8)\n",
    "print(s.count(\"U\"))\n",
    "print (\"~~*~~\"*10)\n",
    "print(s.find('sat'))\n",
    "print (\"~~*~~\"*12)\n",
    "print(s.find('t', 12))\n",
    "print (\"~~*~~\"*14)\n",
    "print(s.find('q', 12))\n",
    "print (\"~~*~~\"*14)\n",
    "print(s.replace('sat on', 'fell off'))\n",
    "print (\"~~*~~\"*16)\n",
    "words = s.split()    # This returns a list, which we will talk about later.\n",
    "for word in words:   # But you can iterate over each word in this manner\n",
    "    print(word.capitalize())\n",
    "    print (\"~~*~~\"*18)\n",
    "\n",
    "print('-'.join(words))"
   ]
  },
  {
   "cell_type": "markdown",
   "metadata": {},
   "source": [
    "Exercise 9:\n",
    "#Can you identify and explain the errors in the following lines of code? Correct them please!"
   ]
  },
  {
   "cell_type": "code",
   "execution_count": 49,
   "metadata": {},
   "outputs": [
    {
     "ename": "SyntaxError",
     "evalue": "invalid syntax (<ipython-input-49-bbe716cb111a>, line 1)",
     "output_type": "error",
     "traceback": [
      "\u001b[1;36m  File \u001b[1;32m\"<ipython-input-49-bbe716cb111a>\"\u001b[1;36m, line \u001b[1;32m1\u001b[0m\n\u001b[1;33m    print(\"A message\").\u001b[0m\n\u001b[1;37m                       ^\u001b[0m\n\u001b[1;31mSyntaxError\u001b[0m\u001b[1;31m:\u001b[0m invalid syntax\n"
     ]
    }
   ],
   "source": [
    "print(\"A message\").\n",
    "print(\"A message')\n",
    "print('A message\"')"
   ]
  },
  {
   "cell_type": "markdown",
   "metadata": {},
   "source": [
    "Exercise 10:\n",
    "#Can you print all index value of 'a' present in banana ?"
   ]
  },
  {
   "cell_type": "code",
   "execution_count": 80,
   "metadata": {},
   "outputs": [
    {
     "name": "stdout",
     "output_type": "stream",
     "text": [
      " Total Count of A :\t 3\n",
      " Index values where 'a' is located in String :\t [1, 3, 5]\n"
     ]
    }
   ],
   "source": [
    "Fruit_B = \"Banana\"\n",
    "print (\" Total Count of A :\\t\",Fruit_B.count('a'))\n",
    "Index_values = [ index[0] for index in enumerate(Fruit_B) if index[1] == 'a']\n",
    "print (\" Index values where 'a' is located in String :\\t\", Index_values)"
   ]
  },
  {
   "cell_type": "markdown",
   "metadata": {},
   "source": [
    "Exercise 10:\n",
    "#Replace all a's by o's in 'banana' using a string method."
   ]
  },
  {
   "cell_type": "code",
   "execution_count": 82,
   "metadata": {},
   "outputs": [
    {
     "data": {
      "text/plain": [
       "'Bonono'"
      ]
     },
     "execution_count": 82,
     "metadata": {},
     "output_type": "execute_result"
    }
   ],
   "source": [
    "Fruit_B = \"Banana\"\n",
    "Fruit_B = Fruit_B.replace('a','o')\n",
    "Fruit_B"
   ]
  },
  {
   "cell_type": "code",
   "execution_count": 83,
   "metadata": {},
   "outputs": [
    {
     "data": {
      "text/plain": [
       "True"
      ]
     },
     "execution_count": 83,
     "metadata": {},
     "output_type": "execute_result"
    }
   ],
   "source": [
    "{1, 2, 3} == {2, 3, 1}"
   ]
  },
  {
   "cell_type": "code",
   "execution_count": null,
   "metadata": {},
   "outputs": [],
   "source": []
  },
  {
   "cell_type": "code",
   "execution_count": null,
   "metadata": {},
   "outputs": [],
   "source": []
  },
  {
   "cell_type": "code",
   "execution_count": null,
   "metadata": {},
   "outputs": [],
   "source": []
  },
  {
   "cell_type": "code",
   "execution_count": null,
   "metadata": {},
   "outputs": [],
   "source": []
  },
  {
   "cell_type": "code",
   "execution_count": null,
   "metadata": {},
   "outputs": [],
   "source": []
  }
 ],
 "metadata": {
  "kernelspec": {
   "display_name": "Python 3",
   "language": "python",
   "name": "python3"
  },
  "language_info": {
   "codemirror_mode": {
    "name": "ipython",
    "version": 3
   },
   "file_extension": ".py",
   "mimetype": "text/x-python",
   "name": "python",
   "nbconvert_exporter": "python",
   "pygments_lexer": "ipython3",
   "version": "3.7.0"
  }
 },
 "nbformat": 4,
 "nbformat_minor": 2
}
